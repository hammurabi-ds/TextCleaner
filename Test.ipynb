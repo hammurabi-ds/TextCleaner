{
 "cells": [
  {
   "cell_type": "code",
   "execution_count": 1,
   "id": "charitable-mauritius",
   "metadata": {},
   "outputs": [],
   "source": [
    "from src.TextCleaner import *\n",
    "from sklearn.pipeline import Pipeline\n",
    "import pandas as pd\n",
    "import numpy as np\n"
   ]
  },
  {
   "cell_type": "code",
   "execution_count": 2,
   "id": "engaged-poker",
   "metadata": {},
   "outputs": [],
   "source": [
    "prep = TextCleaner(\"english\")\n",
    "\n",
    "symbols = ['¤¤, ##, &&']\n",
    "regex = (\"\\d{16}|\\d{4}[ ]\\d{4}[ ]\\d{4}[ ]\\d{4}\", 'CREDIT CARD')\n",
    "\n",
    "# Do basic preprocessing using a pipeline\n",
    "steps = Pipeline([        \n",
    "    ('RE',RegexSub(prep, regex)),\n",
    "    ('word_tokenize', WordTokenizer(prep)),\n",
    "    ('number', NumberCleaner(prep)),\n",
    "    ('punctuation', PunctuationCleaner(prep)),\n",
    "    ('stopword', StopwordCleaner(prep, False)),\n",
    "    ('SymbolRemover',SymbolCleaner(prep, symbols)),\n",
    "    ('empty', EmptywordCleaner(prep)),\n",
    "    ('pos', POSTagger(prep)),\n",
    "    ('lemma', Lemmatizer(prep))\n",
    "])\n",
    "\n",
    "\n",
    "\n",
    "text = [\"my email address is : mail@outlook.com\", \n",
    "        \"hello my email address is, mail2@gmail.com\", \n",
    "        \"my credit card number is 3221 1111 1111 1111\"]\n",
    "\n",
    "# Fit the pipeline to data\n",
    "clean_text = steps.fit_transform(text)\n",
    "\n",
    "# Merge the cleaned words into sentences again\n",
    "data=[' '.join(x) for x in clean_text]"
   ]
  },
  {
   "cell_type": "code",
   "execution_count": 6,
   "id": "secure-sword",
   "metadata": {},
   "outputs": [
    {
     "data": {
      "text/plain": [
       "['email address mail outlook.com',\n",
       " 'hello email address mail gmail.com',\n",
       " 'credit card number CREDIT CARD']"
      ]
     },
     "execution_count": 6,
     "metadata": {},
     "output_type": "execute_result"
    }
   ],
   "source": [
    "data"
   ]
  },
  {
   "cell_type": "code",
   "execution_count": 3,
   "id": "simplified-switzerland",
   "metadata": {},
   "outputs": [],
   "source": [
    "#prep = TextCleaner(\"danish\")\n",
    "#regex = (\"\\d{16}|\\d{4}[ ]\\d{4}[ ]\\d{4}[ ]\\d{4}\", 'CCN')\n",
    "#r = RegexSub(prep,regex)"
   ]
  },
  {
   "cell_type": "code",
   "execution_count": 4,
   "id": "generic-permit",
   "metadata": {},
   "outputs": [],
   "source": [
    "#c = r.transform([\"min email er aze@gmail.com\", \"min mail er azu@hotmail.com\", \"3221 1111 1111 1111 cc nummer\"])"
   ]
  },
  {
   "cell_type": "code",
   "execution_count": null,
   "id": "soviet-statistics",
   "metadata": {},
   "outputs": [],
   "source": [
    "X = [\"text ... to clean here\", \"one more 221 ,-. text to clean\", \"oops another one,.a\"]\n",
    "X2 = [\"min email ..., s,,sa, er aze@gmail.com\", \"min mail 22 ,, er azu@hotmail.com\", \"3221 1111 1111 1111 cc nummer\"]"
   ]
  },
  {
   "cell_type": "code",
   "execution_count": null,
   "id": "genuine-rebound",
   "metadata": {},
   "outputs": [],
   "source": [
    "a = preprocess(X2)"
   ]
  },
  {
   "cell_type": "code",
   "execution_count": null,
   "id": "statewide-lightning",
   "metadata": {},
   "outputs": [],
   "source": [
    "a"
   ]
  }
 ],
 "metadata": {
  "kernelspec": {
   "display_name": "Python 3",
   "language": "python",
   "name": "python3"
  },
  "language_info": {
   "codemirror_mode": {
    "name": "ipython",
    "version": 3
   },
   "file_extension": ".py",
   "mimetype": "text/x-python",
   "name": "python",
   "nbconvert_exporter": "python",
   "pygments_lexer": "ipython3",
   "version": "3.7.9"
  }
 },
 "nbformat": 4,
 "nbformat_minor": 5
}
